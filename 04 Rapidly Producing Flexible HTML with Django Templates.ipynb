{
 "cells": [
  {
   "cell_type": "markdown",
   "metadata": {},
   "source": [
    "# Chapter 4: Rapidly Producing Flexible HTML with Django Templates"
   ]
  },
  {
   "cell_type": "markdown",
   "metadata": {},
   "source": [
    "### function view\n",
    "A function in python that determines the data that need to display in the webpage. It returns a certain kind of data, that is to be loaded by the web browser."
   ]
  },
  {
   "cell_type": "markdown",
   "metadata": {},
   "source": [
    "### Templates"
   ]
  },
  {
   "cell_type": "markdown",
   "metadata": {},
   "source": [
    "At times to generate a dynamic page, we need to fetch content personized for each individual. This results in decoupling of presentation and logic. It is the same reason that MVC splits View and Controller and\n",
    "why **Django implements MVC Views as Django templates**."
   ]
  },
  {
   "cell_type": "markdown",
   "metadata": {},
   "source": [
    "Django templates take elements from both real-world templates and word-processing templates. A Django template is an external file or document that acts as a guide or blueprint for data, while also providing preset content. These blueprints, written by the developer, allow Django to quickly generate markup content to be returned to the user. \n",
    "\n",
    "Templates are thus external to Django: they are a document Django fills in. Templates are markup-language\n",
    "agnostic: a developer may output HTML, JSON, YAML, or any other imaginable text\n",
    "format. This is because the developer may write the template in any format and simply have\n",
    "Django fill in the blanks the developer leaves and indicates.The Django template loader allows Django to identify the gaps the developer has left and fill them in the templates."
   ]
  },
  {
   "cell_type": "markdown",
   "metadata": {},
   "source": [
    "A **template engine** is a system that loads and renders a template into markup and therefore defines the language used to write the template. Django’s own template engine, called the **Django Template Language (DTL)**, was the only option in Django 1.7 and earlier. As of Django 1.8 and above we can pick any another template engine such as Jinja2."
   ]
  },
  {
   "cell_type": "markdown",
   "metadata": {},
   "source": [
    "### Template Storage location"
   ]
  },
  {
   "cell_type": "markdown",
   "metadata": {},
   "source": [
    "In each app directories, we can create a new directory named templates. Django automatically checks this directory for templates.\n",
    "\n",
    "\n",
    "When loading a template, **Django treats all of the template directories as a single directory**. Consequently, file name conflicts may result. Given this behavior, Django recommends the convention of adding a subdirectory to `template/` by the name of the app, effectively creating a namespace for the app. \n",
    "\n",
    "For example store\n",
    "* `app1_page.html` at `app1/template/app1/`\n",
    "* `app2_page.html` at `app2/template/app2/`\n",
    "\n",
    "Technically we can store `app2_page.html` in `app1/template/app2/` But this can break the concept of encapsulation provided by Django.\n",
    "\n",
    "While Django knows to look in each app folder for the `template/` directory, Django does not have a default folder to check for templates that are not built for a specific app. We can therefore place these templates anywhere.To keep things simple, consider creating a `templates/` directory in the root project directory.\n",
    "\n",
    "We now need to inform Django of the existence of new directory by updating `/suorganizer/settings.py`. Update the **TEMPLATES** setting, and add an absolute path to the template directory."
   ]
  },
  {
   "cell_type": "markdown",
   "metadata": {},
   "source": [
    "### Rendering HTML page"
   ]
  },
  {
   "cell_type": "markdown",
   "metadata": {},
   "source": [
    "#### Writing HTML pages\n",
    "* Django uses `{{` and `}}` to identify the blanks to fill in. Thus while processing a html page with `{{ company.name }}`, Django replaces the whole place with the value of *name* attribute of the *company* object.\n",
    "* Django provides **template tags**, which are delimited by `{%` and ` %}`. Template tags allow for conditional logic, loops, and evaluation of functions and methods, meaning that we can run and evaluate Python in our template.\n",
    "    * Use of `{% extends file.html %}` can stimulate the inheritance inside html files!\n",
    "* Django also supplies `{#` and  `#}`, which is used to write comments in templates. The utility of using template comments over markup-specific comments is that they will not appear in the output of the rendered templates. This further allows for a separation of comments specific to the template code from comments specific to markup code.\n",
    "* In addition to printing variables and providing template tags for logic, templates provide the ability to interact with variables via template filters. Template filters allow developers to sort, modify, and count lists; to format a Python date object into a pretty string; and to modify strings, such as to change their case. Django template filters may be applied to a variable by appending a vertical bar character, or pipe, to the variable followed by the name of the filter (and any arguments the filter might take): `{{ variable|filter }}`. Spaces between the variable, vertical bar, and filter name are not welcome. Some filters allow or expect a single argument, which may be passed in with a colon and enclosed in quotations if the argument is not an integer: `{{ variable|filter:\"arg\" }}`. Filters may also be chained: `{{ variable|filter1|filter2 }}`"
   ]
  },
  {
   "cell_type": "markdown",
   "metadata": {},
   "source": [
    "#### Connecting html with django\n",
    "\n",
    "Open up the shell with Django defaults using `./manage.py shell`\n",
    "Django combines the template with context, just as it would replace and process the html pages\n",
    "```python\n",
    "from django.template import Template, Context\n",
    "\n",
    "my_page = Template('Hi There! and welcome to {{ company }}!')\n",
    "context = Context({'company':\"ABC coorporation\"})\n",
    "\n",
    "print(template.render(context))\n",
    "```\n",
    "```shell\n",
    "[out]: Hi There! and welcome to ABC coorporation!\n",
    "```\n",
    "---\n",
    "\n",
    "To load the html content from the templates directory and render the file to desired output\n",
    "```python\n",
    "from django.template import loader\n",
    "\n",
    "template = loader.get_template('app_name/file.html')\n",
    "contents = {'name1':'value1', 'name2':'value2'}\n",
    "\n",
    "print(template.render(contents)) #prints the html content\n",
    "```\n",
    "The template.render() accepts a dictionary where the keys are the varaibles mentioned in the html file.\n"
   ]
  },
  {
   "cell_type": "code",
   "execution_count": null,
   "metadata": {},
   "outputs": [],
   "source": []
  },
  {
   "cell_type": "code",
   "execution_count": null,
   "metadata": {},
   "outputs": [],
   "source": []
  }
 ],
 "metadata": {
  "kernelspec": {
   "display_name": "Python 3 (ipykernel)",
   "language": "python",
   "name": "python3"
  },
  "language_info": {
   "codemirror_mode": {
    "name": "ipython",
    "version": 3
   },
   "file_extension": ".py",
   "mimetype": "text/x-python",
   "name": "python",
   "nbconvert_exporter": "python",
   "pygments_lexer": "ipython3",
   "version": "3.8.10"
  }
 },
 "nbformat": 4,
 "nbformat_minor": 4
}
