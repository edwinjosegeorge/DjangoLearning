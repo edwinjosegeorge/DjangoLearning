{
 "cells": [
  {
   "cell_type": "markdown",
   "metadata": {},
   "source": [
    "## Why use a database?"
   ]
  },
  {
   "cell_type": "markdown",
   "metadata": {},
   "source": [
    "The combination of Django’s core functionality and a database allows us to avoid hardcoding content because a database provides rapid access to persistent, normalized data.\n",
    "\n",
    "We split website into discrete stateful (the data) and stateless (the process) part."
   ]
  },
  {
   "cell_type": "markdown",
   "metadata": {},
   "source": [
    "### Database concepts\n",
    "1. A primary key is an identifier for a row in the database table. \n",
    "    * Django Python automatically adds primary key field called **pk**\n",
    "2. A foreign key is the primary key of another row in the database. \n",
    "\n",
    "\n",
    "* One-to-many relationships are expressed by the creation of foreign keys in a column of a table. \n",
    "* Many-to-many relationships are expressed with a separate two-column table, where each column contains foreign keys"
   ]
  },
  {
   "cell_type": "markdown",
   "metadata": {},
   "source": [
    "### Django's Slug : Accessing Data\n",
    "\n",
    "* Unique identification of that data is necessary for clear access to website data via a **URL**\n",
    "* The URL should be human-readable and memorable and tell us about the resource we access.\n",
    "* Preferably, URL's should be case insensitive so that user are free to type any combination to reach a resource.\n",
    "\n",
    "Such sentence are called **slug**. Django supplies tools to ensure that slug contains only *alphanumerical character, dashes, and underscores*. Usually, slug's are saved in lowercase.\n",
    "\n"
   ]
  },
  {
   "cell_type": "markdown",
   "metadata": {},
   "source": [
    "## ORM : Object Relational Mapper\n",
    "\n",
    "The ORM’s main goal is to transmit data between a relational database and application model. The ORM automates this transmission, such that the developer need not write any SQL.\n",
    "\n",
    "ORM, as from the name, maps objects attributes to respective table fields. It can also retrieve data in that manner. \n",
    "\n",
    "ORMs automatically create a database schema from defined classes/models. They generate SQL from Python code for a particular database. This increased the popularity of ORMs and web-frameworks.\n",
    "\n",
    "Django ORM is suitable for handling low-medium complexity queries. The migrations feature by Django is also a part of Django ORM. The ORM has many benefits engulfing those of migrations and Querysets."
   ]
  },
  {
   "cell_type": "markdown",
   "metadata": {},
   "source": [
    "<img src='Images/django_orm_diagram_1.png'>"
   ]
  },
  {
   "cell_type": "markdown",
   "metadata": {},
   "source": [
    "### Transforming Django Python to Database\n",
    "1. A Class in python (model) is the table in database \n",
    "2. An attribute in python class (field) is a column in the database table\n",
    "3. An instance of a class (model instance) is a row in that databast table."
   ]
  },
  {
   "cell_type": "markdown",
   "metadata": {},
   "source": [
    "<img src=\"Images/django_orm_model.png\">"
   ]
  },
  {
   "cell_type": "markdown",
   "metadata": {},
   "source": [
    "### Using Django to handle Database\n",
    "\n",
    "Always use Django to build database. Creating or modifying a database is a two-step process. \n",
    "* First create a migration file.\n",
    "* Then update the actual database."
   ]
  },
  {
   "cell_type": "markdown",
   "metadata": {},
   "source": [
    "### Meta Class\n",
    "* These are the classes defined inside our model class.\n",
    "* They affect the existing behaviour of the class\n",
    "* They gives developer control of how the system interacts with models by providing configurable option, customizable in nested class titled Meta."
   ]
  },
  {
   "cell_type": "markdown",
   "metadata": {},
   "source": [
    "### Understanding Migrations\n",
    "Migrations provides a controlled, predictable system for altering\n",
    "a database. The typical workflow with Django is to\n",
    "1. Create or change a model in Django,\n",
    "2. Generate a migration file,\n",
    "3. Use the migration file to create/alter the database.\n",
    "\n",
    "The migration file contains the instructions to alter the database and to roll back (or revert) those alterations."
   ]
  },
  {
   "cell_type": "markdown",
   "metadata": {},
   "source": [
    "#### Making migrations\n",
    "\n",
    "Check code for errors\n",
    "```shell\n",
    "$ ./manage.py check\n",
    "```\n",
    "\n",
    "Make migration only for specific app\n",
    "```shell\n",
    "$ ./manage.py makemigrations {app_name}\n",
    "```\n",
    "\n",
    "Make migration for all apps in the website\n",
    "```shell\n",
    "$ ./manage.py makemigrations\n",
    "```"
   ]
  },
  {
   "cell_type": "markdown",
   "metadata": {},
   "source": [
    "#### Applying migrations\n",
    "\n",
    "Tell Django to modify database\n",
    "```shell\n",
    "$ ./manage.py migrate\n",
    "```\n",
    "\n",
    "View the SQL code that Django generates from migration file to update the database\n",
    "\n",
    "```shell\n",
    "$ ./manage.py sqlmigrate {app_name} {migration_file}\n",
    "```"
   ]
  },
  {
   "cell_type": "markdown",
   "metadata": {},
   "source": [
    "## Manipulating Data in Database : Managers and QuerySets : ORM model"
   ]
  },
  {
   "cell_type": "markdown",
   "metadata": {},
   "source": [
    "1. To interact Django ORM with jupyter notebooks\n",
    "    * Set up environment\n",
    "    ```shell\n",
    "    $ pip install ipython jupyter django-extensions \n",
    "    ```\n",
    "    \n",
    "    * Add ***django_extensions*** package to *INSTALLED_APPS* in settings.py\n",
    "    * To load notebook with few default django modules imported \n",
    "    ```shell\n",
    "    $ ./manager.py shell_plus --notebook\n",
    "    ```\n",
    "\n",
    "\n",
    "2. Alternatively to load interactive python interpreter in shell\n",
    "```shell\n",
    "$ ./manager.py shell\n",
    "```\n"
   ]
  },
  {
   "cell_type": "markdown",
   "metadata": {},
   "source": [
    "### Managers\n",
    "Django attaches an object called a manager to every model class. The manager helps interaction with the database in complicated ways. It is one of the most powerful tools inherited through `models.Model`. By default, Django automatically generates a manager for each model and assigns it to the objects attribute."
   ]
  },
  {
   "cell_type": "markdown",
   "metadata": {},
   "source": [
    "## Takeways\n",
    "* Models are simply Python classes with inherited behavior.\n",
    "* Models are made up of fields.\n",
    "* Fields are Python objects and behave like types.\n",
    "* Models each have a model manager, which enables communication with the database.\n",
    "* Each database relation creates two related managers, one for each model of the relation.\n",
    "* Managers produce querysets, which feature many of the same methods of managers."
   ]
  },
  {
   "cell_type": "code",
   "execution_count": null,
   "metadata": {},
   "outputs": [],
   "source": []
  }
 ],
 "metadata": {
  "kernelspec": {
   "display_name": "Python 3 (ipykernel)",
   "language": "python",
   "name": "python3"
  },
  "language_info": {
   "codemirror_mode": {
    "name": "ipython",
    "version": 3
   },
   "file_extension": ".py",
   "mimetype": "text/x-python",
   "name": "python",
   "nbconvert_exporter": "python",
   "pygments_lexer": "ipython3",
   "version": "3.8.10"
  }
 },
 "nbformat": 4,
 "nbformat_minor": 4
}
