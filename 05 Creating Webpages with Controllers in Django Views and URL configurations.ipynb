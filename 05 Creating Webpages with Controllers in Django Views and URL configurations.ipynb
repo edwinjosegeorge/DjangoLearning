{
 "cells": [
  {
   "cell_type": "markdown",
   "metadata": {},
   "source": [
    "# Chapter 5 : Creating Webpages with Controllers in Django: Views and URL configurations"
   ]
  },
  {
   "cell_type": "markdown",
   "metadata": {},
   "source": [
    "A webpage consists of \n",
    "1. The data contained in the webpage\n",
    "2. The URL (location) of the webpage. \n",
    "\n",
    "Django follows this abstraction by splitting the Controller into two parts. **Django views** give Django the data of the webpage. The URL associated with each view is listed in the **URL configuration**."
   ]
  },
  {
   "cell_type": "markdown",
   "metadata": {},
   "source": [
    "## Django Views\n",
    "The view is where webpage data is generated. The developer uses the view to interact with the database, load and render the template, and perform any other logic necessary to displaying a webpage.\n",
    "A Django view is any **Python callable** (function, class, or object) that meets the following two requirements:\n",
    "   * Accepts an HttpRequest object as argument\n",
    "   * Returns an HttpResponse object\n",
    "   \n",
    "An `HttpRequest` object contains all of the information about the page requested, any data the user is passing to the website, and any data the browser is sending about the user. The `HttpResponse` returns an HTTP code as well as any data the developer chooses to return to the user.\n",
    "\n",
    "Any view that is built using a function is called a *function view*, and any view that is an object is called a *class-based view*"
   ]
  },
  {
   "cell_type": "markdown",
   "metadata": {},
   "source": [
    "### Example of a view function in views.py\n",
    "```python\n",
    "from django.http.response import HttpResponse\n",
    "from django.template import loader\n",
    "from .models import model_class_name\n",
    "\n",
    "def homepage(request):\n",
    "    data = model_class_name.objects.all()\n",
    "    template = loader.get_template('app_name/file.html')\n",
    "    context = { 'data': data }\n",
    "    output = template.render(context)\n",
    "    return HttpResponse(output)\n",
    "```"
   ]
  },
  {
   "cell_type": "markdown",
   "metadata": {},
   "source": [
    "## Django's Use of Views and URL Configurations"
   ]
  },
  {
   "cell_type": "markdown",
   "metadata": {},
   "source": [
    "### Usage of regular expression in urls.py\n",
    "\n",
    "Regular expression can be used to recognise URL patterns to match. Django make use of **named group** in regular expression to extract the pattern string into a variable group, that can be passes as a parameter list into a view function. Python regular expressions identify named groups with the text `(?P<name>pattern)` , where name is the name of the group and pattern is the actual regular expression pattern. In a URL pattern, Django takes any named group and passes its value to the view the URL pattern points to. Consider the example\n",
    "\n",
    "**urls.py**\n",
    "```python\n",
    "from django.urls import re_path\n",
    "from app_name.views import homepage\n",
    "\n",
    "urlpatterns = [\n",
    "    re_path(r'^super/(?P<slug>[\\w\\-]+)/\\$', hompage),\n",
    "]\n",
    "```\n",
    "The list matches the url of pattern `super/some_slug_string/`. The  regular express `[\\w\\-]+` tells to match any combinations of alphanumerical string, underscore ( _ ) and dash (-) symbols. The recognized symbols are saved into a name called `slug`. The `^` marks the begining of the URL and `$` marks the end of the URL pattern. \n",
    "\n",
    "The view function `homepage` is passed with a parameter `slug`. Hence the function can accept the parameter and the definition would look like\n",
    "\n",
    "**app_name/views.py**\n",
    "```python\n",
    "from django.http.response import HttpResponse\n",
    "from django.template import loader\n",
    "from .models import model_class_name\n",
    "\n",
    "def homepage(request, slug):\n",
    "    # slug variable can be used here!\n",
    "    return HttpResponse()\n",
    "```      "
   ]
  },
  {
   "cell_type": "markdown",
   "metadata": {},
   "source": [
    "## Handling Errors : returning 404"
   ]
  },
  {
   "cell_type": "markdown",
   "metadata": {},
   "source": [
    "Update the view function to handle or return 404 object\n",
    "\n",
    "**method one : Raising exception**\n",
    "```python\n",
    "from django.http.response import Http404, HttpResponse\n",
    "\n",
    "def my_view(request):\n",
    "    try:\n",
    "        # error prone code goes here!\n",
    "    except Exception as e : #catch the exception\n",
    "        raise Http404  # raise 404 exception\n",
    "    \n",
    "    #some more code\n",
    "    return HttpResponse(output)\n",
    "```\n",
    "---\n",
    "**method two : Returning 404 object**\n",
    "```python\n",
    "from django.http.response import HttpResponse, HttpResponseNotFound\n",
    "\n",
    "def my_view(request):\n",
    "    try:\n",
    "        # error prone code goes here!\n",
    "    except Exception as e : #catch the exception\n",
    "        return HttpResponceNotFound(\"<h2>No such resource</h2>\")\n",
    "        # returns an http response which inturn raises 404 exception\n",
    "    \n",
    "    #some more code\n",
    "    return HttpResponse(output)\n",
    "```"
   ]
  },
  {
   "cell_type": "markdown",
   "metadata": {},
   "source": [
    "## Django shortcuts\n",
    "Most of the time, there are a lot of identical task like loading the template, fetching data from database, generate 404 if data is not found, return and http responce etc. These functionaly are combined together using various functions defined in `django.shortcuts`"
   ]
  },
  {
   "cell_type": "markdown",
   "metadata": {},
   "source": [
    "`get_object_or_404` : The shortcut expects to have the model class and the desired query passed as arguments and will return the object if it finds one. If not, it raises Http404.\n",
    "\n",
    "`render` : It replaces the common task like Load a template file as a Template object, Render the Template with the Context/dictionary, Instantiate an HttpResponse object with the rendered result.\n",
    "\n",
    "```python\n",
    "from django.shortcuts import get_object_or_404, render\n",
    "def my_view(request,slug):\n",
    "    user_info = get_object_or_404(UserDetails, slug__iexact=slug)\n",
    "    context = {'user':user_info}\n",
    "    return render(request, 'app_name/user_detail.html',context)\n",
    "```\n",
    "Thus a simple page is processed with just few lines!"
   ]
  },
  {
   "cell_type": "markdown",
   "metadata": {},
   "source": [
    "## Class based views\n",
    "Any Python callable that accepts an HttpRequest object as argument and returns an HttpResponse object is deemed a view in Django. Django introduced a class to create view objects. The class itself is simply called View, and developers refer to classes that inherit View as **class-based views (CBVs)**. These classes behave exactly like function views but come with several unexpected benefits."
   ]
  },
  {
   "cell_type": "markdown",
   "metadata": {},
   "source": [
    "**app_name/views.py**\n",
    "```python\n",
    "from django.views.generic import View\n",
    "\n",
    "class BlogList(View):\n",
    "    \n",
    "    def function(self,request):\n",
    "        #some code\n",
    "        return render(request, 'file.html', context)\n",
    "```"
   ]
  },
  {
   "cell_type": "markdown",
   "metadata": {},
   "source": [
    "The import of View typically causes confusion because it implies that View is generic, leading people to confuse View and class-based views with *generic class-based views (GCBVs)*. **GCBVs are not the same as CBVs**"
   ]
  },
  {
   "cell_type": "markdown",
   "metadata": {},
   "source": [
    "A CBV is simply a class that inherits View and meets the basic requirements of being a Django view: a view is a Python callable that always accepts an HttpRequest object and always returns an HttpResponse object.\n",
    "\n",
    "\n",
    "The CBV organizes view behavior for a URI or set of URIs **according to HTTP methods**. Specifically, View is built such that it expects us to define any of the following: get() , post() , put() , patch() , delete() , trace() . \n",
    "\n",
    "In the event that the method is undefined, the CBV raises an HTTP 405 error. At first glance, CBVs are far more complex than function views. However, CBVs are more clearly organized, allow for shared behavior according to OOP, and better adhere to the rules of HTTP out of the box."
   ]
  },
  {
   "cell_type": "code",
   "execution_count": null,
   "metadata": {},
   "outputs": [],
   "source": []
  }
 ],
 "metadata": {
  "kernelspec": {
   "display_name": "Python 3 (ipykernel)",
   "language": "python",
   "name": "python3"
  },
  "language_info": {
   "codemirror_mode": {
    "name": "ipython",
    "version": 3
   },
   "file_extension": ".py",
   "mimetype": "text/x-python",
   "name": "python",
   "nbconvert_exporter": "python",
   "pygments_lexer": "ipython3",
   "version": "3.8.10"
  }
 },
 "nbformat": 4,
 "nbformat_minor": 4
}
